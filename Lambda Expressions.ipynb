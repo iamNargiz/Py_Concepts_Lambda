{
 "cells": [
  {
   "cell_type": "code",
   "execution_count": 1,
   "id": "f83dff4a",
   "metadata": {},
   "outputs": [
    {
     "name": "stdout",
     "output_type": "stream",
     "text": [
      "25\n"
     ]
    }
   ],
   "source": [
    "#Lambda function with single argument\n",
    "x = lambda a: a*a\n",
    "print(x(5))"
   ]
  },
  {
   "cell_type": "code",
   "execution_count": 2,
   "id": "a6cc4717",
   "metadata": {},
   "outputs": [
    {
     "name": "stdout",
     "output_type": "stream",
     "text": [
      "10\n"
     ]
    }
   ],
   "source": [
    "#Lambda function with more than one argument\n",
    "y = lambda a, b: a+b\n",
    "print(y(4,6))"
   ]
  },
  {
   "cell_type": "code",
   "execution_count": 3,
   "id": "b4bec1ae",
   "metadata": {},
   "outputs": [
    {
     "name": "stdout",
     "output_type": "stream",
     "text": [
      "Original list: \n",
      "[-10, -4, 6, 8, -3, 7, 3, -9]\n",
      "Rearranged positive and negative numbers of the given list\n",
      "[3, 6, 7, 8, -10, -9, -4, -3]\n"
     ]
    }
   ],
   "source": [
    "#Exercise\n",
    "L1=[-10, -4, 6, 8, -3, 7, 3, -9]\n",
    "print('Original list: ')\n",
    "print(L1)\n",
    "result=sorted(L1, key = lambda i: 0 if i==0 else -1 / i)\n",
    "print('Rearranged positive and negative numbers of the given list')\n",
    "print(result)"
   ]
  },
  {
   "cell_type": "code",
   "execution_count": null,
   "id": "c05cc1d4",
   "metadata": {},
   "outputs": [],
   "source": []
  }
 ],
 "metadata": {
  "kernelspec": {
   "display_name": "Python 3",
   "language": "python",
   "name": "python3"
  },
  "language_info": {
   "codemirror_mode": {
    "name": "ipython",
    "version": 3
   },
   "file_extension": ".py",
   "mimetype": "text/x-python",
   "name": "python",
   "nbconvert_exporter": "python",
   "pygments_lexer": "ipython3",
   "version": "3.9.5"
  }
 },
 "nbformat": 4,
 "nbformat_minor": 5
}
